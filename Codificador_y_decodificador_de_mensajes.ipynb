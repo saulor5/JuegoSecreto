{
  "nbformat": 4,
  "nbformat_minor": 0,
  "metadata": {
    "colab": {
      "provenance": [],
      "authorship_tag": "ABX9TyOrHZSEyHcr4QOFgzYHH/kA",
      "include_colab_link": true
    },
    "kernelspec": {
      "name": "python3",
      "display_name": "Python 3"
    },
    "language_info": {
      "name": "python"
    }
  },
  "cells": [
    {
      "cell_type": "markdown",
      "metadata": {
        "id": "view-in-github",
        "colab_type": "text"
      },
      "source": [
        "<a href=\"https://colab.research.google.com/github/saulor5/JuegoSecreto/blob/main/Codificador_y_decodificador_de_mensajes.ipynb\" target=\"_parent\"><img src=\"https://colab.research.google.com/assets/colab-badge.svg\" alt=\"Open In Colab\"/></a>"
      ]
    },
    {
      "cell_type": "code",
      "execution_count": 593,
      "metadata": {
        "colab": {
          "base_uri": "https://localhost:8080/"
        },
        "id": "BmMccFkOLYef",
        "outputId": "a6bd52c3-5e44-4b56-9910-18e942eca435"
      },
      "outputs": [
        {
          "output_type": "stream",
          "name": "stdout",
          "text": [
            "[[ 2  4  3]\n",
            " [ 0  1 -1]\n",
            " [ 3  5  7]]\n"
          ]
        }
      ],
      "source": [
        "import numpy as np\n",
        "#Declaramos a nuestra matriz llave\n",
        "matriz_llave = np.array ([[2, 4, 3], [0, 1, -1], [3, 5, 7]])\n",
        "print (matriz_llave)"
      ]
    },
    {
      "cell_type": "code",
      "source": [
        "#Ingresamos la matriz de nuestro mensaje\n",
        "B = np.array ([[8, 26, 14, 1, 15, 5, 1, 4, 8],\n",
        "               [15, 13, 1, 26, 26, 26, 14, 9, 15],\n",
        "               [25, 1, 14, 14, 19, 8, 26, 3, 26]])\n",
        "print (B)"
      ],
      "metadata": {
        "colab": {
          "base_uri": "https://localhost:8080/"
        },
        "id": "e6c2H7DiLbLC",
        "outputId": "22ebbc64-367e-49e5-90b5-f42421f0df7c"
      },
      "execution_count": 594,
      "outputs": [
        {
          "output_type": "stream",
          "name": "stdout",
          "text": [
            "[[ 8 26 14  1 15  5  1  4  8]\n",
            " [15 13  1 26 26 26 14  9 15]\n",
            " [25  1 14 14 19  8 26  3 26]]\n"
          ]
        }
      ]
    },
    {
      "cell_type": "code",
      "source": [
        "#Multiplicamos la matriz llave por la matriz de nuestro mensaje\n",
        "C = np.dot(matriz_llave,B)\n",
        "print (C)"
      ],
      "metadata": {
        "colab": {
          "base_uri": "https://localhost:8080/"
        },
        "id": "PZfd3lQTLczs",
        "outputId": "7ee24f8d-bf45-44ac-9d52-052173f45f48"
      },
      "execution_count": 595,
      "outputs": [
        {
          "output_type": "stream",
          "name": "stdout",
          "text": [
            "[[151 107  74 148 191 138 136  53 154]\n",
            " [-10  12 -13  12   7  18 -12   6 -11]\n",
            " [274 150 145 231 308 201 255  78 281]]\n"
          ]
        }
      ]
    },
    {
      "cell_type": "code",
      "source": [
        "#Aplicamos modulo 29\n",
        "mesaje_cifrado = C % 29\n",
        "print (mesaje_cifrado)"
      ],
      "metadata": {
        "colab": {
          "base_uri": "https://localhost:8080/"
        },
        "id": "HUWsPfi8Nk5B",
        "outputId": "4b43b7c7-fd90-4b14-9cb9-38bbcff88e97"
      },
      "execution_count": 596,
      "outputs": [
        {
          "output_type": "stream",
          "name": "stdout",
          "text": [
            "[[ 6 20 16  3 17 22 20 24  9]\n",
            " [19 12 16 12  7 18 17  6 18]\n",
            " [13  5  0 28 18 27 23 20 20]]\n"
          ]
        }
      ]
    },
    {
      "cell_type": "code",
      "source": [
        "def inverso_modular(a, m):\n",
        "    for x in range(1, m):\n",
        "        if (a * x) % m == 1:\n",
        "            return x\n",
        "    return None #Si no existe inverso\n",
        "  #Resultado de inverso modular\n",
        "print (inverso_modular(3, 29))"
      ],
      "metadata": {
        "colab": {
          "base_uri": "https://localhost:8080/"
        },
        "id": "rQglGlTSiHJL",
        "outputId": "aacb5e71-cef7-4ef8-d6e4-ae24e4ca0c8b"
      },
      "execution_count": 597,
      "outputs": [
        {
          "output_type": "stream",
          "name": "stdout",
          "text": [
            "10\n"
          ]
        }
      ]
    },
    {
      "source": [
        "def desencriptar(matriz_llave, mensaje_cifrado):\n",
        "    #Obtenemos la determinante de la matriz llave\n",
        "    det_A = np.linalg.det((matriz_llave))\n",
        "    #Redondeamos el valor del determinante\n",
        "    det_A_b = round(det_A)\n",
        "    #Obtenemos la matriz inversa del determinante de la matriz llave\n",
        "    inv_det_A = inverso_modular(int(det_A_b), 29)\n",
        "    #Obtenemos la inversa de la matriz llave para poder calcular\n",
        "    #la matriz adjunta de la matriz llave\n",
        "    inv_matriz_llave = np.linalg.inv(matriz_llave)\n",
        "    #Obtenemos la matriz adjunta de la matriz llave\n",
        "    adj_A = np.dot(det_A, inv_matriz_llave)\n",
        "    #Obtenemos la matriz inversa\n",
        "    matriz_inversa = (inv_det_A * adj_A) % 29\n",
        "    #Obtenemos el mensaje original\n",
        "    mensaje_original = np.mod (np.dot(matriz_inversa, mensaje_cifrado),29)\n",
        "\n",
        "\n",
        "    return mensaje_original, det_A, inv_det_A\n",
        "\n",
        "\n",
        "mensaje_original, det_A, inv_det_A = desencriptar(matriz_llave, mesaje_cifrado)\n",
        "\n",
        "print (\"Determinante de A\", det_A)\n",
        "print (\"Matriz inversa del determinante de la matriz\", inv_det_A)\n",
        "print (mensaje_original)"
      ],
      "cell_type": "code",
      "metadata": {
        "colab": {
          "base_uri": "https://localhost:8080/"
        },
        "id": "MiBsUJJekxiL",
        "outputId": "fd57a9fc-ddf5-4ba2-a73a-1e0d49249672"
      },
      "execution_count": 598,
      "outputs": [
        {
          "output_type": "stream",
          "name": "stdout",
          "text": [
            "Determinante de A 2.999999999999998\n",
            "Matriz inversa del determinante de la matriz 10\n",
            "[[ 8. 26. 14.  1. 15.  5.  1.  4.  8.]\n",
            " [15. 13.  1. 26. 26. 26. 14.  9. 15.]\n",
            " [25.  1. 14. 14. 19.  8. 26.  3. 26.]]\n"
          ]
        }
      ]
    }
  ]
}